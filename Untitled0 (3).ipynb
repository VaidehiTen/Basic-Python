{
  "nbformat": 4,
  "nbformat_minor": 0,
  "metadata": {
    "colab": {
      "provenance": [],
      "toc_visible": true
    },
    "kernelspec": {
      "name": "python3",
      "display_name": "Python 3"
    },
    "language_info": {
      "name": "python"
    }
  },
  "cells": [
    {
      "cell_type": "markdown",
      "source": [
        "#Basic Python\n"
      ],
      "metadata": {
        "id": "peGqI7ZwPRNp"
      }
    },
    {
      "cell_type": "markdown",
      "source": [
        "1.  What is Python, and why is it popular ?\n",
        "   - Python is commonly used for developing websites and software, task automation, data analysis, and data visualisation. Since it's relatively easy to learn, Python has been adopted by many non-programmers, such as accountants and scientists, for a variety of everyday tasks, like organising finances.\n",
        "\n",
        "   Python is popular beacause:\n",
        "\n",
        "   I. Easy to read code, free of needless special characters and parentheses. Enforced identation (love it or hate it) leads to wells structured code and reduces the number of bugs that might be created by ambigous if-else statements for example.\n",
        "\n",
        "   II. One way to do things\n",
        "\n",
        "   III. Batteries included philosophy: There are tons of packages that come with each Python installation, and tens of thousands more available on the web.\n",
        "\n",
        "   IV. Reasonable performance for a scripting language: By itself not terribly fast Python provides and easy way to call foreign functions that have been written in C or another execution-speed optimized language. Furthermore it is possible to compile Python code, increasing speed further.\n",
        "\n",
        "   V. Open source (and no doubts about it): Users do not have to worry about any patent nonsense or licence payments that may or may not be due in the future\n",
        "\n",
        "   VI. Developed by one (well, very few actually) person. As opposed to a whole comittee where the many compromises necessary will very often degrade the quality.\n",
        "\n",
        "\n",
        "2. What is an interpreter in Python ?\n",
        "   - Python interpreter is software logic between code and computer hardware. It takes a python program and run the program line by line from start to bottom.If the program require any computer HW for example Disk File, interpreter takes care of interaction with computer HW and it will be completely transparent to the python user.\n",
        "\n",
        "3. What are pre-defined keywords in Python ?\n",
        "   - Python Keywords are some predefined and reserved words in Python that have special meanings. Keywords are used to define the syntax of the coding. The keyword cannot be used as an identifier, function, or variable name. All the keywords in Python are written in lowercase except True and False.\n",
        "\n",
        "4. Can keywords be used as variable names ?\n",
        "   - Keywords are the reserved words in a programming language. They cannot be used as a variable name inside of your program.\n",
        "   Datatype are keyword which define what type of data a particular variable can hold.\n",
        "   Eg for keywords : for, int ,double, float , switch, while\n",
        "   Eg for datatype : int,double,float,char,long etc\n",
        "\n",
        "5. What is mutability in Python ?\n",
        "   - The term “mutable” means “changeable” or “modifiable”. Python lists are described as “mutable” because you can update a list in place. In other libraries where lists are immutable, changes to the list require creating a new copy of the list that contains the given changes, rather than applying the set of changes to the original list.\n",
        "\n",
        "6. Why are lists mutable, but tuples are immutable ?\n",
        "   - In Python tuples are immutable but list are mutable.\n",
        "   Tuples are identified by python interpreter as one immutable constant literal, and hence is built as 1 single entity and stored in hashtable and are fetched when some execution is done on them.\n",
        "   Whereas list are mutable object, so each time some execution is done new objects are created hence arent interpreted just once and hence lists are slower than tuple.\n",
        "\n",
        "7. What is the difference between “==” and “is” operators in Python ?\n",
        "   - In Python, == and is operators are both used for comparison but they serve different purposes. == is for value equality. It's used to know if two objects have the same value.\n",
        "   “is” is for reference to equality. It's used to know if two references refer to the same object or not.\n",
        "\n",
        "8.  What are logical operators in Python ?\n",
        "   - In Python, logical operators are used to combine conditional statements, allowing you to perform operations based on multiple conditions.(either True or False). There are three logical operators.\n",
        "   I.  and :  True if both are true.\n",
        "   II.  or :  True if either of the operands is true.\n",
        "   III.not :  True if the operand is false.\n",
        "\n",
        "9.  What is type casting in Python ?\n",
        "   - Type casting is a process to explicitly specify types of variables in a programming language.\n",
        "   Python is dynamically typed, so there is a type inference engine at work which is used to establish types before computations are done. However, if you want to specify types of variables, there is a programmer-friendly interface for specifying the type of variables, such as ints or floats.\n",
        "   There can be two types of Type Casting in Python:\n",
        "   I.Python Implicit Type Conversion\n",
        "  II.Python Explicit Type Conversion\n",
        "\n",
        "10. What is the difference between implicit and explicit type casting ?\n",
        "   - Type Casting : Conversion of one data type to another data type. and it can be done in two ways.\n",
        "   I.Implicit Type Casting\n",
        "   II.Explicit Type Casting\n",
        "\n",
        "   Implicit type casting is performed by the compiler on its own when it encounters a mixed data type expression in the program. it is also known as automatic conversion as it is done by compiler without programmer's assistance. implicit casting doesn't require a casting operator.\n",
        "\n",
        "   Explicit type casting is performed by the programmer. In this type casting programmer tells compiler to type cast one data type to another data type using type casting operator. but there is some risk of information loss is there, so one needs to be careful while doing it.\n",
        "\n",
        "11. What is the purpose of conditional statements in Python ?\n",
        "   - A conditional statement in Python determines the flow of code execution and its direction based on certain conditions. It decides the control flow of a Python program according to the output of the given condition.\n",
        "   Conditionals in Python enable conditional execution of a statement or a group of statements based on the expression's value. For example, we can segregate even and odd numbers using if-else statements in Python.\n",
        "  \n",
        "  We can use different combinations of conditional statements in Python to implement our code during decision-making scenarios. Below, we have types of conditional statements in Python :\n",
        "  I.Python if Conditional Statement\n",
        "\n",
        " II.Python if-else Conditional Statement\n",
        "\n",
        " III.Python Nested if-else Conditional Statement\n",
        "\n",
        " IV.Python elif Conditional Statement\n",
        "\n",
        " V.Python Ternary Expression\n",
        "\n",
        "12. How does the elif statement work ?\n",
        "   - elif statement in Python stands for \"else if.\" It allows us to check multiple conditions , providing a way to execute different blocks of code based on which condition is true. Using elif statements makes our code more readable and efficient by eliminating the need for multiple nested if statements.\n",
        "   Example   \n",
        "   age = 25\n",
        "\n",
        "   if age <= 12:\n",
        "    print(\"Child.\")\n",
        "   elif age <= 19:\n",
        "    print(\"Teenager.\")\n",
        "   elif age <= 35:\n",
        "    print(\"Young adult.\")\n",
        "   else:\n",
        "    print(\"Adult.\")\n",
        "\n",
        "    output: Young adult.\n",
        "\n",
        "13. What is the difference between for and while loops ?\n",
        "    - While is same as for loop but the iteration variable is not declared or ittrated in special clause.\n",
        "    In for loop you have three parts in which you can declare the iteration variable, use the condition and give it the iteration per loop.\n",
        "    Whereas in while loop the declaration of loop control variables can be done out side the loop and iteration is done at last in the loop.\n",
        "    An unspecified use of while may lead it to infinite.\n",
        "\n",
        "14. Describe a scenario where a while loop is more suitable than a for loop.\n",
        "  - When considering whether to use a \"While Loop\" or a \"For Loop,\" it's important to look at the nature of the task at hand. Each type of loop has situations where it is best applied:\n",
        "\n",
        "   While Loop: This is ideal when you want the loop to continue executing as long as a certain condition is true. The exact number of iterations isn't known beforehand. It checks the condition before each iteration, making it suitable for scenarios where you're waiting for a particular state or condition to be fulfilled.\n",
        "   For Loop: This loop is used when you know ahead of time how many times you want to run the loop. It is great for iterating over a specific range, a fixed number of times, or over a collection of elements (like items in a list).\n",
        "   Scenario for \"While Loop\":\n",
        "\n",
        "  Imagine a situation where you are reading data from a file until you reach the end. You don't know how many lines the file contains, so you need a loop that keeps reading line by line until there are no more lines to read. In such a case, a \"While Loop\" is more appropriate because the number of iterations needed isn't known in advance—it depends on the file's content.\n",
        "\n",
        "  Explanation of the Scenario:\n",
        "\n",
        "  Start by initializing a variable to track the number of iterations or the current state (e.g., iteration_count = 0).\n",
        "  Set a condition flag (e.g., condition_met = False) that will eventually change when the task is complete (like reaching the end of a file).\n",
        "  Use a \"While Loop\" where the loop continues as long as the condition (condition_met) is not satisfied.\n",
        "  Within the loop, perform necessary operations, such as reading data or performing computations.\n",
        "  After each operation, update the condition or the counter. For example, increase the iteration count by 1 (iteration_count += 1).\n",
        "  If at any point the condition for stopping the loop is fulfilled, such as reaching the required number of iterations or detecting the end of data, change the condition flag to break out of the loop (condition_met = True).\n",
        "  By following these steps in the scenario described, you can effectively determine when a \"While Loop\" is more appropriate than a \"For Loop.\"\n",
        "\n",
        "\n",
        "\n",
        "\n",
        "\n",
        "\n",
        "\n",
        "\n"
      ],
      "metadata": {
        "id": "FrJ-PBLvPbgt"
      }
    },
    {
      "cell_type": "markdown",
      "source": [
        "#Practical Questions\n"
      ],
      "metadata": {
        "id": "ZBcVj6G3hb_U"
      }
    },
    {
      "cell_type": "code",
      "source": [
        "1. Write a Python program to print \"Hello, World!\"\n",
        "print(\"Hello, World!\")\n"
      ],
      "metadata": {
        "id": "c1FXVWNghpEz"
      },
      "execution_count": null,
      "outputs": []
    },
    {
      "cell_type": "code",
      "source": [
        "2. Write a Python program that displays your name and age\n",
        "name = \"Your Name\"\n",
        "age = 8\n",
        "print(\"Name:\", name)\n",
        "print(\"Age:\", age)"
      ],
      "metadata": {
        "id": "ytsHMyY3ihjG"
      },
      "execution_count": null,
      "outputs": []
    },
    {
      "cell_type": "code",
      "source": [
        "3. Write code to print all the pre-defined keywords in Python using the keyword library\n",
        "import keyword\n",
        "\n",
        "print(keyword.kwlist)"
      ],
      "metadata": {
        "id": "CzZkUGVMi6nw"
      },
      "execution_count": null,
      "outputs": []
    },
    {
      "cell_type": "code",
      "source": [
        "4. Write a program that checks if a given word is a Python keyword.\n",
        "import keyword\n",
        "\n",
        "def is_keyword(word):\n",
        "    \"\"\"Checks if a word is a Python keyword.\"\"\"\n",
        "    return keyword.iskeyword(word)"
      ],
      "metadata": {
        "id": "KutLVRQwjLrr"
      },
      "execution_count": null,
      "outputs": []
    },
    {
      "cell_type": "code",
      "source": [
        "5. Create a list and tuple in Python, and demonstrate how attempting to change an element works differently\n",
        "for each.\n",
        "# Creating a list\n",
        "my_list = [1, 2, 3]\n",
        "print(\"Original list:\", my_list)\n",
        "\n",
        "# Modifying an element in the list\n",
        "my_list[1] = 10\n",
        "print(\"Modified list:\", my_list)\n",
        "\n",
        "# Creating a tuple\n",
        "my_tuple = (4, 5, 6)\n",
        "print(\"Original tuple:\", my_tuple)\n",
        "\n",
        "# Attempting to modify an element in the tuple\n",
        "try:\n",
        "    my_tuple[1] = 100\n",
        "except TypeError as e:\n",
        "    print(\"Error:\", e)"
      ],
      "metadata": {
        "id": "hOKhaFmmjaBe"
      },
      "execution_count": null,
      "outputs": []
    },
    {
      "cell_type": "code",
      "source": [
        "6. Write a function to demonstrate the behavior of mutable and immutable arguments\n",
        "def modify_arguments(immutable_arg, mutable_arg):\n",
        "    \"\"\"\n",
        "    Demonstrates the behavior of mutable and immutable arguments in Python.\n",
        "\n",
        "    Args:\n",
        "        immutable_arg: An immutable argument (e.g., integer, string, tuple).\n",
        "        mutable_arg: A mutable argument (e.g., list, dictionary).\n",
        "    \"\"\"\n",
        "    print(\"Inside the function:\")\n",
        "    print(\"Original immutable argument:\", immutable_arg)\n",
        "    print(\"Original mutable argument:\", mutable_arg)\n",
        "\n",
        "    # Attempt to modify the immutable argument\n",
        "    immutable_arg = immutable_arg + 1\n",
        "    print(\"Modified immutable argument (inside function):\", immutable_arg)\n",
        "\n",
        "    # Modify the mutable argument\n",
        "    mutable_arg.append(4)\n",
        "    print(\"Modified mutable argument (inside function):\", mutable_arg)"
      ],
      "metadata": {
        "id": "0i4oXyRNjrLd"
      },
      "execution_count": null,
      "outputs": []
    },
    {
      "cell_type": "code",
      "source": [
        "7. Write a program that performs basic arithmetic operations on two user-input numbers\n",
        "def perform_arithmetic(num1, num2, operation):\n",
        "    \"\"\"\n",
        "\n",
        "    Args:\n",
        "        num1: The first number.\n",
        "        num2: The second number.\n",
        "\n",
        "    Returns:\n",
        "        The result of the operation, or None if the operation is invalid.\n",
        "    \"\"\"\n",
        "    if operation == '+':\n",
        "        return num1 + num2\n",
        "    elif operation == '-':\n",
        "        return num1 - num2\n",
        "    elif operation == '*':\n",
        "        return num1 * num2\n",
        "    elif operation == '/':\n",
        "        if num2 == 0:\n",
        "            print(\"Error: Cannot divide by zero.\")\n",
        "            return None\n",
        "        else:\n",
        "            return num1 / num2\n",
        "    else:\n",
        "        print(\"Invalid operation. Please use +, -, *, or /.\")\n",
        "        return None\n",
        "\n",
        "# Get input from the user\n",
        "try:\n",
        "    num1 = float(input(\"Enter the first number: \"))\n",
        "    num2 = float(input(\"Enter the second number: \"))\n",
        "    operation = input(\"Enter the operation (+, -, *, /): \")\n",
        "\n",
        "    result = perform_arithmetic(num1, num2, operation)\n",
        "\n",
        "    if result is not None:\n",
        "        print(f\"The result is: {result}\")\n",
        "\n",
        "except ValueError:\n",
        "    print(\"Invalid input. Please enter valid numbers.\")"
      ],
      "metadata": {
        "id": "jFv_wK-OkNL4"
      },
      "execution_count": null,
      "outputs": []
    },
    {
      "cell_type": "code",
      "source": [
        "8. Write a program to demonstrate the use of logical operators.\n",
        "age = 25\n",
        "\n",
        "if age >= 18 and age <= 60:\n",
        "    print(\"You are eligible to vote and work.\")\n",
        "else:\n",
        "    print(\"You are not eligible to vote or work.\")\n",
        ""
      ],
      "metadata": {
        "id": "r9d1LOjXk3wY"
      },
      "execution_count": null,
      "outputs": []
    },
    {
      "cell_type": "code",
      "source": [
        "9. Write a Python program to convert user input from string to integer, float, and boolean types\n",
        "def convert_input():\n",
        "    user_input = input(\"Enter a value: \")\n",
        "\n",
        "    try:\n",
        "        print(f\"Integer: {int(user_input)}\")\n",
        "    except ValueError:\n",
        "        print(\"Invalid input for integer conversion.\")\n",
        "\n",
        "    try:\n",
        "        print(f\"Float: {float(user_input)}\")\n",
        "    except ValueError:\n",
        "        print(\"Invalid input for float conversion.\")\n",
        "\n",
        "    bool_value = user_input.lower() in ['true', '1', 't', 'y', 'yes']\n",
        "    print(f\"Boolean: {bool_value}\")\n",
        "\n",
        "convert_input()\n"
      ],
      "metadata": {
        "id": "zcRJUxlllrM5"
      },
      "execution_count": null,
      "outputs": []
    },
    {
      "cell_type": "code",
      "source": [
        "10. Write code to demonstrate type casting with list elements.\n",
        "# Original list with string elements\n",
        "str_list = ['1', '3.14', 'True', 'False']\n",
        "\n",
        "# Convert each element to its respective type\n",
        "converted_list = [\n",
        "    int(str_list[0]),    # '1' to int\n",
        "    float(str_list[1]),  # '3.14' to float\n",
        "    str(str_list[2]),    # 'True' to str (no change)\n",
        "    bool(str_list[3])    # 'False' to bool\n",
        "]\n",
        "\n",
        "print(\"Converted List:\", converted_list)\n"
      ],
      "metadata": {
        "id": "H8ACYEw7nP9T"
      },
      "execution_count": null,
      "outputs": []
    },
    {
      "cell_type": "code",
      "source": [
        "11.  Write a program that checks if a number is positive, negative, or zero.\n",
        "num = float(input(\"Enter a number: \"))\n",
        "if num > 0:\n",
        "   print(\"Positive number\")\n",
        "elif num == 0:\n",
        "   print(\"Zero\")\n",
        "else:\n",
        "   print(\"Negative number\")\n"
      ],
      "metadata": {
        "id": "fcCtA1t6oomN"
      },
      "execution_count": null,
      "outputs": []
    },
    {
      "cell_type": "code",
      "source": [
        "12. Write a for loop to print numbers from 1 to 10\n",
        "for i in range(1, 11):\n",
        "    print(i)\n"
      ],
      "metadata": {
        "id": "LusruSGhpCG9"
      },
      "execution_count": null,
      "outputs": []
    },
    {
      "cell_type": "code",
      "source": [
        "13. Write a Python program to find the sum of all even numbers between 1 and 50\n",
        "even_sum = 0\n",
        "\n",
        "for i in range(1, 51):\n",
        "    if i % 2 == 0:  # Check if the number is even\n",
        "        even_sum += i  # Add the even number to the sum\n",
        "\n",
        "print(even_sum)\n"
      ],
      "metadata": {
        "id": "VhzcbwAzpjxY"
      },
      "execution_count": null,
      "outputs": []
    },
    {
      "cell_type": "code",
      "source": [
        "14. Write a program to reverse a string using a while loop\n",
        "def reverse_string(s):\n",
        "    reversed_s = \"\"\n",
        "    length = len(s) - 1\n",
        "    while length >= 0:\n",
        "        reversed_s += s[length]\n",
        "        length -= 1\n",
        "    return reversed_s\n",
        "\n",
        "input_string = \"Hello, world!\"\n",
        "reversed_string = reverse_string(input_string)\n",
        "print(f\"Original string: {input_string}\")\n",
        "print(f\"Reversed string: {reversed_string}\")"
      ],
      "metadata": {
        "id": "KzpkNOV7qMX8"
      },
      "execution_count": null,
      "outputs": []
    },
    {
      "cell_type": "code",
      "source": [
        "15. Write a Python program to calculate the factorial of a number provided by the user using a while loop.\n",
        "number = int(input(\"Enter a non-negative integer: \"))\n",
        "factorial = 1\n",
        "\n",
        "if number < 0:\n",
        "    print(\"Factorial is not defined for negative numbers.\")\n",
        "elif number == 0:\n",
        "    print(\"The factorial of 0 is 1\")\n",
        "else:\n",
        "    while number > 0:\n",
        "        factorial *= number\n",
        "        number -= 1\n",
        "    print(\"The factorial is\", factorial)"
      ],
      "metadata": {
        "id": "WOryLEsFqXwe"
      },
      "execution_count": null,
      "outputs": []
    }
  ]
}